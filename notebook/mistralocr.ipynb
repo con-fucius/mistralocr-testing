{
 "cells": [
  {
   "cell_type": "code",
   "execution_count": null,
   "id": "14a4930a",
   "metadata": {},
   "outputs": [],
   "source": [
    "import os\n",
    "\n",
    "from dotenv import load_dotenv\n",
    "from mistralai import Mistral"
   ]
  },
  {
   "cell_type": "code",
   "execution_count": null,
   "id": "a610643d",
   "metadata": {},
   "outputs": [],
   "source": [
    "load_dotenv()\n",
    "\n",
    "client = Mistral(api_key=os.getenv('MISTRAL_API_KEY'))"
   ]
  },
  {
   "cell_type": "code",
   "execution_count": null,
   "id": "c14b1eff",
   "metadata": {},
   "outputs": [],
   "source": [
    "uploaded_file = client.files.upload(\n",
    "      file = {\n",
    "         \"file_name\" : \"tendermint.pdf\",  # Or the name of the pdf you want to process \n",
    "         \"content\": open(\"tendermint.pdf\", \"rb\")\n",
    "\n",
    "      },\n",
    "      purpose=\"ocr\"\n",
    ")"
   ]
  },
  {
   "cell_type": "code",
   "execution_count": null,
   "id": "c36399c8",
   "metadata": {},
   "outputs": [],
   "source": [
    "file_url = client.files.get_signed_url (file_id = uploaded_file.id)"
   ]
  },
  {
   "cell_type": "code",
   "execution_count": null,
   "id": "5eb20c8c",
   "metadata": {},
   "outputs": [],
   "source": [
    "response = client.ocr.process(\n",
    "       model = \"mistral-ocr-latest\",\n",
    "       document = {\n",
    "           \"type\": \"document_url\",\n",
    "           \"document_url\": file_url.url\n",
    "       },\n",
    "       include_image_base64 = True\n",
    ")"
   ]
  },
  {
   "cell_type": "code",
   "execution_count": null,
   "id": "242bf436",
   "metadata": {},
   "outputs": [],
   "source": [
    "# response.pages[0].markdown"
   ]
  },
  {
   "cell_type": "code",
   "execution_count": null,
   "id": "c6d2cc7e",
   "metadata": {},
   "outputs": [],
   "source": [
    "import base64\n",
    "\n",
    "def data_uri_to_bytes(data_uri):\n",
    "    _, encoded = data_uri.split(',', 1)\n",
    "    return base64.b64decode(encoded)\n",
    "\n",
    "def export_image(image):\n",
    "    parsed_image = data_uri_to_bytes(image.image_base64)\n",
    "    with open(image.id, 'wb') as file:\n",
    "        file.write(parsed_image)\n",
    "\n",
    "with open('output.md', 'w') as f:\n",
    "    for page in response.pages:\n",
    "        f.write(page.markdown)\n",
    "        for image in page.images:\n",
    "            export_image(image)"
   ]
  },
  {
   "cell_type": "code",
   "execution_count": null,
   "id": "d4b032cb",
   "metadata": {},
   "outputs": [],
   "source": [
    "import pytesseract\n",
    "from pdf2image import convert_from_bytes\n",
    "\n",
    "with open('tendermint.pdf', 'rb' ) as f:\n",
    "    pdf_bytes = f.read()\n",
    "\n",
    "    images = convert_from_bytes (pdf_bytes)\n",
    "\n",
    "    custom_config = r' --oem 3 --psm 6'\n",
    "\n",
    "    pdf_text = '\\n\\n'.join(\n",
    "        pytesseract.image_to_string(image, config=custom_config) for image in images\n",
    "    )\n",
    "\n",
    "    pdf_text = pdf_text.replace( '\\x00', ' ')"
   ]
  },
  {
   "cell_type": "code",
   "execution_count": null,
   "id": "0183398a",
   "metadata": {},
   "outputs": [],
   "source": [
    "# print (pdf_text) "
   ]
  },
  {
   "cell_type": "code",
   "execution_count": null,
   "id": "d6ad617d",
   "metadata": {},
   "outputs": [],
   "source": [
    "response = client.ocr.process (\n",
    "    model = \"mistral-ocr-latest\",\n",
    "    document = {\n",
    "        \"type\": \"document_url\",\n",
    "        \"document_url\": \"https://blog.getzep.com/content/files/2025/01/ZEP__USING_KNOWLEDGE_GRAPHS_TO_POWER_LLM_AGENT_MEMORY_2025011700.pdf\" # Replace link with link to your pdf\n",
    "    },\n",
    "    include_image_base64 = True\n",
    ")"
   ]
  },
  {
   "cell_type": "code",
   "execution_count": null,
   "id": "e79ef729",
   "metadata": {},
   "outputs": [],
   "source": [
    "# response.pages[0].markdown"
   ]
  }
 ],
 "metadata": {
  "language_info": {
   "name": "python"
  }
 },
 "nbformat": 4,
 "nbformat_minor": 5
}
